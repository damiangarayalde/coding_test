{
 "cells": [
  {
   "cell_type": "code",
   "execution_count": null,
   "metadata": {},
   "outputs": [],
   "source": [
    "# Given a net of nodes  node_list = ['n1', 'n2', 'n3']  \n",
    "# connection weitghts representing connection delay time between nodes and \n",
    "# a variable K  of value K < len(node_list)   \n",
    "# choose what connectios to delete in order to get the fastest K subgroups of nodes"
   ]
  },
  {
   "cell_type": "code",
   "execution_count": null,
   "metadata": {},
   "outputs": [],
   "source": [
    "# To find the fastest K subgroups of nodes by deleting connections between them, you can use a graph-based approach. You can represent the nodes and their connections as a weighted graph and then iteratively remove the edges that result in the slowest connections until you have K subgroups. Here's a step-by-step guide on how to do this:\n",
    "\n",
    "# 1. Create a weighted graph using the given node_list and connection weights.\n",
    "\n",
    "# 2. Sort the edges (connections) in the graph in descending order of their weights (connection delay times). This way, you start by removing the slowest connections.\n",
    "\n",
    "# 3. Initialize an empty list to store the K subgroups of nodes.\n",
    "\n",
    "# 4. Start iterating through the sorted edges while keeping track of the number of subgroups created (initially 0).\n",
    "\n",
    "# 5. For each edge, check if removing it would disconnect any existing subgroups. If not, remove the edge, and update the graph accordingly (e.g., using an adjacency matrix or an adjacency list).\n",
    "\n",
    "# 6. After removing an edge, check if the graph now has K or more disconnected subgroups. If it does, store the subgroups and break out of the loop.\n",
    "\n",
    "# 7. Continue this process until you have K subgroups or you have considered all the edges.\n",
    "\n",
    "# 8. The K subgroups you've stored are the fastest K subgroups of nodes after deleting the appropriate connections.\n",
    "\n",
    "# Here's a Python code snippet to implement this approach:\n",
    "\n",
    "# This code will give you the K fastest subgroups of nodes by removing the appropriate connections. Adjust the `connection_weights` dictionary and `K` value as needed for your specific case.\\\n",
    "\n"
   ]
  },
  {
   "cell_type": "code",
   "execution_count": null,
   "metadata": {},
   "outputs": [],
   "source": [
    "import networkx as nx\n",
    "\n",
    "node_list = ['n1', 'n2', 'n3']\n",
    "connection_weights = {\n",
    "    ('n1', 'n2'): 5,  # Example connection weights (adjust as needed)\n",
    "    ('n1', 'n3'): 8,\n",
    "    ('n2', 'n3'): 6,\n",
    "}\n",
    "\n",
    "K = 2  # Replace with your desired K value\n",
    "\n",
    "# Create a weighted graph\n",
    "G = nx.Graph()\n",
    "G.add_nodes_from(node_list)\n",
    "for edge, weight in connection_weights.items():\n",
    "    G.add_edge(*edge, weight=weight)\n",
    "\n",
    "# Sort edges by weight in descending order\n",
    "sorted_edges = sorted(G.edges(data=True), key=lambda x: x[2]['weight'], reverse=True)\n",
    "\n",
    "subgroups = []\n",
    "subgroup_count = 0\n",
    "\n",
    "for edge in sorted_edges:\n",
    "    u, v, weight = edge\n",
    "    # Temporarily remove the edge and check connectivity\n",
    "    G.remove_edge(u, v)\n",
    "    if nx.number_connected_components(G) > subgroup_count:\n",
    "        # Found a new subgroup\n",
    "        subgroup_count = nx.number_connected_components(G)\n",
    "        subgroups = [list(c) for c in nx.connected_components(G)]\n",
    "    if subgroup_count >= K:\n",
    "        break\n",
    "\n",
    "# subgroups now contains the K fastest subgroups of nodes\n",
    "print(subgroups)\n"
   ]
  }
 ],
 "metadata": {
  "kernelspec": {
   "display_name": "gazetracking",
   "language": "python",
   "name": "python3"
  },
  "language_info": {
   "name": "python",
   "version": "3.8.17"
  },
  "orig_nbformat": 4
 },
 "nbformat": 4,
 "nbformat_minor": 2
}
