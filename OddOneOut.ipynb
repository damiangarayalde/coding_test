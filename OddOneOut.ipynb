{
 "cells": [
  {
   "cell_type": "code",
   "execution_count": 1,
   "metadata": {},
   "outputs": [],
   "source": [
    "# Given an array of strings where all of them of equal length and composed of uppercase letters:\n",
    "\n",
    "# We define the difference of a particular string as the contactenation of the distances between two \n",
    "# adjacent letters in the abecedary. e.g.: [ABDC] -> [B-A, D-B , C-D]= [ +1, +2, -1]\n",
    "\n",
    "# Only one string in the array has a unique difference. Find it!"
   ]
  },
  {
   "cell_type": "code",
   "execution_count": 21,
   "metadata": {},
   "outputs": [],
   "source": [
    "array = ['ABC', 'DEF','YTI','BCD','GHI' ]"
   ]
  },
  {
   "cell_type": "code",
   "execution_count": 43,
   "metadata": {},
   "outputs": [],
   "source": [
    "# Return diff pattern as a single string\n",
    "\n",
    "def calc_diff( strr ):\n",
    "\n",
    "    diff = []\n",
    "\n",
    "    for i in range(len(strr)-1):\n",
    "\n",
    "        diff.append(  ord(strr[i+1])-ord(strr[i]) )\n",
    "    \n",
    "    return ''.join(map(str, diff))"
   ]
  },
  {
   "cell_type": "code",
   "execution_count": 44,
   "metadata": {},
   "outputs": [],
   "source": [
    "def findtheoddone(array):\n",
    "\n",
    "    dif_count = {}\n",
    "    strrref = {}\n",
    "\n",
    "    for stringg in array:\n",
    "\n",
    "        dif = calc_diff(stringg)\n",
    "     \n",
    "        if dif in dif_count:    dif_count[dif] += 1\n",
    "        else:                   dif_count[dif] = 1\n",
    "    \n",
    "        strrref[dif] = stringg\n",
    "\n",
    "    # Find the unique name\n",
    "    unique_name = None\n",
    "    \n",
    "    for name, count in dif_count.items():\n",
    "        \n",
    "        if count == 1:\n",
    "            unique_name = strrref[name]\n",
    "            break\n",
    "    \n",
    "    return unique_name"
   ]
  },
  {
   "cell_type": "code",
   "execution_count": 50,
   "metadata": {},
   "outputs": [],
   "source": [
    "# An optimized version by chatgpt\n",
    "\n",
    "def findtheoddone_opt(array):\n",
    "    dif_count = {}\n",
    "    \n",
    "    for stringg in array:\n",
    "        dif = calc_diff(stringg)\n",
    "        dif_count[dif] = dif_count.get(dif, 0) + 1\n",
    "    \n",
    "    for stringg in array:\n",
    "        if dif_count[calc_diff(stringg)] == 1:\n",
    "            return stringg\n",
    "\n",
    "    return None"
   ]
  },
  {
   "cell_type": "code",
   "execution_count": 49,
   "metadata": {},
   "outputs": [
    {
     "name": "stdout",
     "output_type": "stream",
     "text": [
      "Results:\n",
      "YTI\n",
      "YTI\n"
     ]
    }
   ],
   "source": [
    "\n",
    "print('Results:')\n",
    "\n",
    "print(findtheoddone_opt(array))\n",
    "\n",
    "print(findtheoddone(array))\n"
   ]
  }
 ],
 "metadata": {
  "kernelspec": {
   "display_name": "gazetracking",
   "language": "python",
   "name": "python3"
  },
  "language_info": {
   "codemirror_mode": {
    "name": "ipython",
    "version": 3
   },
   "file_extension": ".py",
   "mimetype": "text/x-python",
   "name": "python",
   "nbconvert_exporter": "python",
   "pygments_lexer": "ipython3",
   "version": "3.8.17"
  },
  "orig_nbformat": 4
 },
 "nbformat": 4,
 "nbformat_minor": 2
}
