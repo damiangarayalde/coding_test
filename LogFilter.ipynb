{
 "cells": [
  {
   "cell_type": "code",
   "execution_count": null,
   "metadata": {},
   "outputs": [],
   "source": [
    "# Given an array of logs containing the alert type, time and hour and msg in this format:\n",
    "\n",
    "logs = [['23-11-2023', '18:00', 'ERROR', 'this is the message for an error'],\n",
    "        ['06-11-2023', '17:00', 'ALERT', 'watchout'],\n",
    "        ['23-11-2023', '18:00', 'ALLOK', 'everything is ok'],\n",
    "        ['18-11-2022', '18:00', 'ERROR', 'this is the message for an error'],]\n",
    "\n",
    "# the time is specified as DD-MM-YYYY \n",
    "\n",
    "#Filter out the logs without ERROR and ALERT types and then order the records cronollogically"
   ]
  }
 ],
 "metadata": {
  "kernelspec": {
   "display_name": "gazetracking",
   "language": "python",
   "name": "python3"
  },
  "language_info": {
   "name": "python",
   "version": "3.8.17"
  },
  "orig_nbformat": 4
 },
 "nbformat": 4,
 "nbformat_minor": 2
}
